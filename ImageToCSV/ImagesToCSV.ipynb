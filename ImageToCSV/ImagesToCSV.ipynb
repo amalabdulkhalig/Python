{
 "cells": [
  {
   "cell_type": "markdown",
   "metadata": {},
   "source": [
    "# Image to CSV \n",
    "This code aims to convert a list of images in a folder to a CSV File, where each image is a row and each pixel is a column."
   ]
  },
  {
   "cell_type": "code",
   "execution_count": 8,
   "metadata": {},
   "outputs": [],
   "source": [
    "import os\n",
    "from matplotlib import pyplot as plt\n",
    "from matplotlib import image as mpimg\n",
    "from PIL import Image\n",
    "import numpy as np\n",
    "import csv"
   ]
  },
  {
   "cell_type": "code",
   "execution_count": 9,
   "metadata": {},
   "outputs": [],
   "source": [
    "path = r\"yalefaces\""
   ]
  },
  {
   "cell_type": "code",
   "execution_count": 10,
   "metadata": {},
   "outputs": [],
   "source": [
    "#Useful function\n",
    "def createFileList(myDir):\n",
    "    fileList = []\n",
    "    #print(myDir)\n",
    "    for root, dirs, files in os.walk(myDir, topdown=True): #search the files from top-down \n",
    "        for name in files:\n",
    "            if name == 'Readme.txt':# If the file is readme file ignore it \n",
    "                continue\n",
    "            else:\n",
    "                fullName = os.path.join(root, name) \n",
    "                fileList.append(fullName)\n",
    "    return fileList #return list of images names "
   ]
  },
  {
   "cell_type": "code",
   "execution_count": 12,
   "metadata": {},
   "outputs": [],
   "source": [
    "# load the original image\n",
    "myFileList = createFileList('yalefaces')\n",
    "\n",
    "for file in myFileList:\n",
    "    lable = ''.join(char for char in file if char.isdigit())\n",
    "    img_file = Image.open(file) #img_file = <PIL.GifImagePlugin.GifImageFile\n",
    "    new_image = img_file.resize((40, 40)) #resize the image object to 40 X 40 \n",
    "    value = np.asarray(new_image.getdata(), dtype=int)\n",
    "    value = value.reshape((new_image.size[1], new_image.size[0])) #get the image dimentions 40 X 40\n",
    "    value = value.flatten() #image new dimentions 1 X 1600\n",
    "    \n",
    "    #----- add the label here before saving the image to csv file \n",
    "    value = np.concatenate([[int(lable)],value])\n",
    "    with open(\"CSVImages.csv\", 'a') as image: #appened each value as a new image \n",
    "        writer = csv.writer(image)\n",
    "        writer.writerow(value)"
   ]
  },
  {
   "cell_type": "markdown",
   "metadata": {},
   "source": []
  }
 ],
 "metadata": {
  "kernelspec": {
   "display_name": "Python 3.9.12 ('base')",
   "language": "python",
   "name": "python3"
  },
  "language_info": {
   "codemirror_mode": {
    "name": "ipython",
    "version": 3
   },
   "file_extension": ".py",
   "mimetype": "text/x-python",
   "name": "python",
   "nbconvert_exporter": "python",
   "pygments_lexer": "ipython3",
   "version": "3.9.12"
  },
  "vscode": {
   "interpreter": {
    "hash": "8836dc3cb5d022b839c66561b07c94e2b96c073f18eae4c463d3a3bcf20aef43"
   }
  }
 },
 "nbformat": 4,
 "nbformat_minor": 4
}
